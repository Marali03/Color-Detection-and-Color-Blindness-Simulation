{
 "cells": [
  {
   "cell_type": "code",
   "execution_count": 1,
   "id": "b59f4501",
   "metadata": {},
   "outputs": [
    {
     "name": "stdout",
     "output_type": "stream",
     "text": [
      "Requirement already satisfied: numpy in c:\\users\\marali\\anaconda3\\lib\\site-packages (1.26.4)\n",
      "Requirement already satisfied: opencv-python in c:\\users\\marali\\anaconda3\\lib\\site-packages (4.10.0.84)\n",
      "Requirement already satisfied: scikit-learn in c:\\users\\marali\\anaconda3\\lib\\site-packages (1.2.2)\n",
      "Requirement already satisfied: scipy>=1.3.2 in c:\\users\\marali\\anaconda3\\lib\\site-packages (from scikit-learn) (1.11.4)\n",
      "Requirement already satisfied: joblib>=1.1.1 in c:\\users\\marali\\anaconda3\\lib\\site-packages (from scikit-learn) (1.2.0)\n",
      "Requirement already satisfied: threadpoolctl>=2.0.0 in c:\\users\\marali\\anaconda3\\lib\\site-packages (from scikit-learn) (2.2.0)\n",
      "Note: you may need to restart the kernel to use updated packages.\n"
     ]
    }
   ],
   "source": [
    "pip install numpy opencv-python scikit-learn\n"
   ]
  },
  {
   "cell_type": "code",
   "execution_count": 2,
   "id": "1a818a8f",
   "metadata": {},
   "outputs": [],
   "source": [
    "import cv2\n",
    "import numpy as np\n",
    "from sklearn.cluster import KMeans\n",
    "import matplotlib.pyplot as plt"
   ]
  },
  {
   "cell_type": "code",
   "execution_count": 3,
   "id": "8d3c7378",
   "metadata": {},
   "outputs": [],
   "source": [
    "\n",
    "def detect_colors(image, num_colors=5):\n",
    "    image = cv2.cvtColor(image, cv2.COLOR_BGR2RGB)\n",
    "    image = image.reshape((image.shape[0] * image.shape[1], 3))\n",
    "    \n",
    "    kmeans = KMeans(n_clusters=num_colors, n_init=10)  # Explicitly set n_init to avoid FutureWarning\n",
    "    kmeans.fit(image)\n",
    "    colors = kmeans.cluster_centers_.astype(int)\n",
    "    \n",
    "    return colors"
   ]
  },
  {
   "cell_type": "code",
   "execution_count": 4,
   "id": "4ff30518",
   "metadata": {},
   "outputs": [],
   "source": [
    "def simulate_color_blindness(image, deficiency_type):\n",
    "    # Define transformation matrices for different types of color blindness\n",
    "    matrix = {\n",
    "        'protanopia': np.array([[56.667/100, 43.333/100, 0],\n",
    "                                [55.833/100, 44.167/100, 0],\n",
    "                                [0, 24.167/100, 75.833/100]]),\n",
    "        'protanomaly': np.array([[81.667/100, 18.333/100, 0],\n",
    "                                 [33.333/100, 66.667/100, 0],\n",
    "                                 [0, 12.5/100, 87.5/100]]),\n",
    "        'deuteranopia': np.array([[62.5/100, 37.5/100, 0],\n",
    "                                  [70/100, 30/100, 0],\n",
    "                                  [0, 30/100, 70/100]]),\n",
    "        'deuteranomaly': np.array([[80/100, 20/100, 0],\n",
    "                                   [25.833/100, 74.167/100, 0],\n",
    "                                   [0, 14.167/100, 85.833/100]]),\n",
    "        'tritanopia': np.array([[95/100, 5/100, 0],\n",
    "                                [0, 43.333/100, 56.667/100],\n",
    "                                [0, 47.5/100, 52.5/100]]),\n",
    "        'tritanomaly': np.array([[96.667/100, 3.333/100, 0],\n",
    "                                 [0, 73.333/100, 26.667/100],\n",
    "                                 [0, 18.333/100, 81.667/100]]),\n",
    "        'achromatopsia': np.array([[29.9/100, 29.9/100, 29.9/100],\n",
    "                                   [58.7/100, 58.7/100, 58.7/100],\n",
    "                                   [11.4/100, 11.4/100, 11.4/100]]),\n",
    "        'achromatomaly': np.array([[61.8/100, 32/100, 6.2/100],\n",
    "                                   [16.3/100, 77.5/100, 6.2/100],\n",
    "                                   [16.3/100, 32/100, 51.6/100]])\n",
    "    }.get(deficiency_type, np.eye(3))  # Default to identity matrix if type is not found\n",
    "\n",
    "    # Apply the matrix transformation to the image\n",
    "    transformed_image = cv2.transform(image, matrix)\n",
    "    \n",
    "    return transformed_image\n"
   ]
  },
  {
   "cell_type": "code",
   "execution_count": 5,
   "id": "dd989aa2",
   "metadata": {},
   "outputs": [
    {
     "data": {
      "image/png": "[encoded data removed]",
      "text/plain": [
       "<Figure size 800x200 with 1 Axes>"
      ]
     },
     "metadata": {},
     "output_type": "display_data"
    }
   ],
   "source": [
    "#this funtion is to display the captured frames taken through web cam and also provides the window seperatly for original frame\n",
    "#and simuulated frame.\n",
    "def display_images(original, simulated):\n",
    "    cv2.imshow('Original Webcam View', original)\n",
    "    cv2.imshow('Simulated View', simulated)\n",
    "\n",
    "# Initialize webcam\n",
    "cap = cv2.VideoCapture(0)\n",
    "\n",
    "# Check if webcam is opened correctly\n",
    "# if not working prints error\n",
    "if not cap.isOpened():\n",
    "    print(\"Error: Could not open webcam.\")\n",
    "\n",
    "frame_count = 0\n",
    "max_frames = 1\n",
    "\n",
    "while frame_count < max_frames:\n",
    "    ret, frame = cap.read()\n",
    "    if not ret:\n",
    "        break\n",
    "    \n",
    "    # Detect colors\n",
    "    colors = detect_colors(frame)\n",
    "    \n",
    "    # Simulate color blindness\n",
    "    simulated_image = simulate_color_blindness(frame, 'tritanopia')\n",
    "    \n",
    "    # Display original and simulated images in separate windows\n",
    "    display_images(frame, simulated_image)\n",
    "    \n",
    "    # Display detected colors\n",
    "    plt.figure(figsize=(8, 2))\n",
    "    plt.imshow([colors], aspect='auto')\n",
    "    plt.axis('off')\n",
    "    plt.title('Detected Colors')\n",
    "    plt.show(block=False)\n",
    "    plt.pause(2)  # Increase pause to control update frequency\n",
    "    \n",
    "    # Wait for a key press before proceeding\n",
    "    cv2.waitKey(0)\n",
    "    \n",
    "    frame_count += 1\n",
    "\n",
    "# Release resources\n",
    "cap.release()\n",
    "cv2.destroyAllWindows()\n"
   ]
  },
  {
   "cell_type": "code",
   "execution_count": 6,
   "id": "aaa5187b",
   "metadata": {},
   "outputs": [
    {
     "ename": "SyntaxError",
     "evalue": "invalid syntax (2771349641.py, line 1)",
     "output_type": "error",
     "traceback": [
      "\u001b[1;36m  Cell \u001b[1;32mIn[6], line 1\u001b[1;36m\u001b[0m\n\u001b[1;33m    git clone https://github.com/Marali03/color-detection-blindness-simulation.git\u001b[0m\n\u001b[1;37m        ^\u001b[0m\n\u001b[1;31mSyntaxError\u001b[0m\u001b[1;31m:\u001b[0m invalid syntax\n"
     ]
    }
   ],
   "source": [
    "\n"
   ]
  }
 ],
 "metadata": {
  "kernelspec": {
   "display_name": "Python 3 (ipykernel)",
   "language": "python",
   "name": "python3"
  },
  "language_info": {
   "codemirror_mode": {
    "name": "ipython",
    "version": 3
   },
   "file_extension": ".py",
   "mimetype": "text/x-python",
   "name": "python",
   "nbconvert_exporter": "python",
   "pygments_lexer": "ipython3",
   "version": "3.11.7"
  }
 },
 "nbformat": 4,
 "nbformat_minor": 5
}
